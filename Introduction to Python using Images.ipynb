{
 "cells": [
  {
   "cell_type": "code",
   "execution_count": null,
   "id": "25bccb77",
   "metadata": {},
   "outputs": [],
   "source": [
    "## Explain how all colors are a combination of (R,G,B) values"
   ]
  },
  {
   "cell_type": "markdown",
   "id": "b6789d3d",
   "metadata": {},
   "source": [
    "RGB stands for the primary colors, red, green, and blue. \n",
    "These RGB colors are the basic colors used for displaying images, objects,\n",
    "etc. on electronic screens. RGB is used for electronic displays such as \n",
    "TV screens, smartphones, etc.\n",
    "\n",
    "Using more colors can be found by combining two colors, e.g., red and blue make magenta, blue and green make cyan (a lighter shade of blue), and red and green make yellow.\n",
    "\n",
    "Using all three lights at once will produce white and black is produced when there is no light of any color on the screen."
   ]
  },
  {
   "cell_type": "code",
   "execution_count": null,
   "id": "f4cd6d2c",
   "metadata": {},
   "outputs": [],
   "source": [
    "## Explain concept of Pixels (That images are a matrix of RGB values with\n",
    "## the indices of the matrix explaining the position of the cell)"
   ]
  },
  {
   "cell_type": "code",
   "execution_count": null,
   "id": "bde9629e",
   "metadata": {},
   "outputs": [],
   "source": [
    "Computer screens consist of small units called pixels. \n",
    "One pixel has a subunit for each of the three colors and this \n",
    "is the reason why RGB is the color system used for digital communication."
   ]
  },
  {
   "cell_type": "code",
   "execution_count": null,
   "id": "0dc004f8",
   "metadata": {},
   "outputs": [],
   "source": [
    "## Color a low dimensional white image black at a pixel point"
   ]
  },
  {
   "cell_type": "code",
   "execution_count": null,
   "id": "123fcfb8",
   "metadata": {},
   "outputs": [],
   "source": [
    "## Read in Image"
   ]
  },
  {
   "cell_type": "code",
   "execution_count": null,
   "id": "32f233f7",
   "metadata": {},
   "outputs": [],
   "source": [
    "## Display 3-D List"
   ]
  },
  {
   "cell_type": "code",
   "execution_count": null,
   "id": "6c4df613",
   "metadata": {},
   "outputs": [],
   "source": []
  },
  {
   "cell_type": "code",
   "execution_count": null,
   "id": "598714bf",
   "metadata": {},
   "outputs": [],
   "source": [
    "## Explain that a line is a linear combination of the positions of 2 points"
   ]
  },
  {
   "cell_type": "code",
   "execution_count": null,
   "id": "765d2386",
   "metadata": {},
   "outputs": [],
   "source": [
    "## Draw a Line in a blank image"
   ]
  },
  {
   "cell_type": "code",
   "execution_count": null,
   "id": "e3e03f0b",
   "metadata": {},
   "outputs": [],
   "source": [
    "## Create a function from the steps"
   ]
  },
  {
   "cell_type": "code",
   "execution_count": null,
   "id": "d8547a87",
   "metadata": {},
   "outputs": [],
   "source": [
    "## Apply Function to create more functions that create shapes like Triangle, Square"
   ]
  },
  {
   "cell_type": "code",
   "execution_count": null,
   "id": "ab67e34e",
   "metadata": {},
   "outputs": [],
   "source": []
  }
 ],
 "metadata": {
  "kernelspec": {
   "display_name": "Python 3 (ipykernel)",
   "language": "python",
   "name": "python3"
  },
  "language_info": {
   "codemirror_mode": {
    "name": "ipython",
    "version": 3
   },
   "file_extension": ".py",
   "mimetype": "text/x-python",
   "name": "python",
   "nbconvert_exporter": "python",
   "pygments_lexer": "ipython3",
   "version": "3.9.12"
  }
 },
 "nbformat": 4,
 "nbformat_minor": 5
}
